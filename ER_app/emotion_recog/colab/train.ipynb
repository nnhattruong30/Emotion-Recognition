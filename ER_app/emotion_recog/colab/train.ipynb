{
  "nbformat": 4,
  "nbformat_minor": 0,
  "metadata": {
    "colab": {
      "name": "emotion_recognition.ipynb",
      "provenance": [],
      "private_outputs": true,
      "collapsed_sections": [],
      "toc_visible": true,
      "machine_shape": "hm"
    },
    "kernelspec": {
      "name": "python3",
      "display_name": "Python 3"
    },
    "accelerator": "GPU"
  },
  "cells": [
    {
      "cell_type": "markdown",
      "metadata": {
        "colab_type": "text",
        "id": "ZC-GIBbM9xJH"
      },
      "source": [
        "# **Install package**"
      ]
    },
    {
      "cell_type": "code",
      "execution_count": 0,
      "metadata": {
        "colab": {},
        "colab_type": "code",
        "id": "FO2bqNqYpZgN"
      },
      "outputs": [],
      "source": [
        "!pip install mlxtend==0.17.0\n",
        "from mlxtend.plotting import plot_confusion_matrix"
      ]
    },
    {
      "cell_type": "markdown",
      "metadata": {
        "colab_type": "text",
        "id": "afaawQBP9obN"
      },
      "source": [
        "# **Import library**"
      ]
    },
    {
      "cell_type": "code",
      "execution_count": 0,
      "metadata": {
        "colab": {},
        "colab_type": "code",
        "id": "PxsQYogREv9p"
      },
      "outputs": [],
      "source": [
        "import pandas as pd\n",
        "import cv2\n",
        "import numpy as np\n",
        "import os\n",
        "import pickle\n",
        "import matplotlib.pyplot as plt\n",
        "from keras.layers import Activation, Dropout, Conv2D, Dense, MaxPooling2D, GlobalMaxPooling2D, Flatten, Input, BatchNormalization\n",
        "from keras.models import Sequential, Model, load_model\n",
        "from keras.regularizers import l2\n",
        "from keras.callbacks import CSVLogger, ModelCheckpoint, EarlyStopping, ReduceLROnPlateau\n",
        "from sklearn.model_selection import train_test_split\n",
        "from keras.preprocessing.image import img_to_array, load_img, ImageDataGenerator\n",
        "from keras.losses import categorical_crossentropy\n",
        "from keras.optimizers import Adam\n",
        "from keras.regularizers import l2\n",
        "from google.colab.patches import cv2_imshow\n",
        "from sklearn.metrics import *\n",
        "import itertools\n",
        "from keras.applications import InceptionV3, ResNet50\n",
        "from google.colab import drive"
      ]
    },
    {
      "cell_type": "markdown",
      "metadata": {
        "colab_type": "text",
        "id": "ZtxDJovv-B2K"
      },
      "source": [
        "# **Mount google drive**"
      ]
    },
    {
      "cell_type": "code",
      "execution_count": 0,
      "metadata": {
        "colab": {},
        "colab_type": "code",
        "id": "xF3XggOYCQge"
      },
      "outputs": [],
      "source": [
        "drive.mount('/content/drive')"
      ]
    },
    {
      "cell_type": "markdown",
      "metadata": {
        "colab_type": "text",
        "id": "VxLub9PB_49y"
      },
      "source": [
        "# **Set Path**"
      ]
    },
    {
      "cell_type": "code",
      "execution_count": 0,
      "metadata": {
        "colab": {},
        "colab_type": "code",
        "id": "OhZxBaCBOILt"
      },
      "outputs": [],
      "source": [
        "BASE_DIR = '/content/drive/My Drive/Google Colab/Emotional_Recognition/'\n",
        "fer2013_path = BASE_DIR + 'fer2013/fer2013.csv'\n",
        "ferplus_path = BASE_DIR + 'ferplus/'\n",
        "emotion_model_path = BASE_DIR + 'models/cnn.hdf5'\n",
        "detection_model_path = BASE_DIR + 'haarcascade_files/haarcascade_frontalface_default.xml'"
      ]
    },
    {
      "cell_type": "markdown",
      "metadata": {
        "colab_type": "text",
        "id": "PI8Y-A9ZUC3j"
      },
      "source": [
        "# **Load dataset and preprocess**"
      ]
    },
    {
      "cell_type": "code",
      "execution_count": 0,
      "metadata": {
        "colab": {},
        "colab_type": "code",
        "id": "as6fZyswFq-8"
      },
      "outputs": [],
      "source": [
        "def load_fer2013(shape = (48,48)):\n",
        "    data = pd.read_csv(fer2013_path)\n",
        "    pixels = data['pixels'].tolist()\n",
        "    faces = []\n",
        "    for pixel_sequence in pixels:\n",
        "        face = list(map(int, pixel_sequence.split()))\n",
        "        face = np.asarray(face).reshape(48, 48)\n",
        "        img = face.astype('float32')\n",
        "        if shape != (48,48):\n",
        "          img = cv2.resize(img, shape)\n",
        "        faces.append(img)\n",
        "    faces = np.asarray(faces)\n",
        "    faces = np.expand_dims(faces, -1)\n",
        "    emotions = pd.get_dummies(data['emotion']).values\n",
        "    return faces, emotions\n",
        "\n",
        "def load_ferplus():\n",
        "    train_path = os.path.join(ferplus_path, 'train')\n",
        "    valid_path = os.path.join(ferplus_path, 'valid')\n",
        "    test_path = os.path.join(ferplus_path, 'test')\n",
        "\n",
        "\n",
        "def preprocess_input(x, v2=True):\n",
        "    x = x.astype('float32')\n",
        "    x = x /255.0\n",
        "    if v2:\n",
        "        x = x - 0.5\n",
        "        x = x * 2.0\n",
        "    return x"
      ]
    },
    {
      "cell_type": "markdown",
      "metadata": {
        "colab_type": "text",
        "id": "4SBUJIp9UQmp"
      },
      "source": [
        "#**Model**"
      ]
    },
    {
      "cell_type": "code",
      "execution_count": 0,
      "metadata": {
        "colab": {},
        "colab_type": "code",
        "id": "i9CXwC_6bC8s"
      },
      "outputs": [],
      "source": [
        "def vgg(input_shape, num_class):\n",
        "\n",
        "    model = Sequential()\n",
        "\n",
        "    model.add(Conv2D(64, kernel_size=(3, 3), activation='relu', input_shape=input_shape, kernel_regularizer=l2(0.01)))\n",
        "    model.add(Conv2D(64, kernel_size=(3, 3), activation='relu', padding='same'))\n",
        "    model.add(MaxPooling2D(pool_size=(2, 2), strides=(2, 2)))\n",
        "    model.add(Dropout(0.5))\n",
        "\n",
        "    model.add(Conv2D(128, kernel_size=(3, 3), activation='relu', padding='same'))\n",
        "    model.add(Conv2D(128, kernel_size=(3, 3), activation='relu', padding='same'))\n",
        "    model.add(MaxPooling2D(pool_size=(2, 2), strides=(2, 2)))\n",
        "    model.add(Dropout(0.5))\n",
        "\n",
        "    model.add(Conv2D(256, kernel_size=(3, 3), activation='relu', padding='same'))\n",
        "    model.add(Conv2D(256, kernel_size=(3, 3), activation='relu', padding='same'))\n",
        "    model.add(MaxPooling2D(pool_size=(2, 2), strides=(2, 2)))\n",
        "    model.add(Dropout(0.5))\n",
        "\n",
        "    model.add(Conv2D(512, kernel_size=(3, 3), activation='relu', padding='same'))\n",
        "    model.add(Conv2D(512, kernel_size=(3, 3), activation='relu', padding='same'))\n",
        "    model.add(MaxPooling2D(pool_size=(2, 2), strides=(2, 2)))\n",
        "    model.add(Dropout(0.5))\n",
        "\n",
        "    model.add(GlobalMaxPooling2D())\n",
        "    model.add(Dense(num_classes, activation='softmax'))\n",
        "\n",
        "model = vgg((64,64,1), 7)\n",
        "model.summary()"
      ]
    },
    {
      "cell_type": "code",
      "execution_count": 0,
      "metadata": {
        "colab": {},
        "colab_type": "code",
        "id": "PpqIdok5RBHh"
      },
      "outputs": [],
      "source": [
        "def bkvgg12(input_shape, num_classes):\n",
        "    model = Sequential()\n",
        "\n",
        "    model.add(Conv2D(32, kernel_size=(3, 3), activation='relu', input_shape=input_shape))\n",
        "    model.add(Conv2D(32, kernel_size=(3, 3), activation='relu', padding='same'))\n",
        "    model.add(MaxPooling2D(pool_size=(2, 2), strides=(2, 2)))\n",
        "    model.add(Dropout(0.5))\n",
        "\n",
        "    model.add(Conv2D(64, kernel_size=(3, 3), activation='relu', padding='same'))\n",
        "    model.add(Conv2D(64, kernel_size=(3, 3), activation='relu', padding='same'))\n",
        "    model.add(MaxPooling2D(pool_size=(2, 2), strides=(2, 2)))\n",
        "    model.add(Dropout(0.5))\n",
        "\n",
        "    model.add(Conv2D(128, kernel_size=(3, 3), activation='relu', padding='same'))\n",
        "    model.add(Conv2D(128, kernel_size=(3, 3), activation='relu', padding='same'))\n",
        "    model.add(MaxPooling2D(pool_size=(2, 2), strides=(2, 2)))\n",
        "    model.add(Dropout(0.5))\n",
        "\n",
        "    model.add(Conv2D(256, kernel_size=(3, 3), activation='relu', padding='same'))\n",
        "    model.add(Conv2D(256, kernel_size=(3, 3), activation='relu', padding='same'))\n",
        "    model.add(Conv2D(256, kernel_size=(3, 3), activation='relu', padding='same'))\n",
        "    model.add(MaxPooling2D(pool_size=(2, 2), strides=(2, 2)))\n",
        "    model.add(Dropout(0.5))\n",
        "\n",
        "    model.add(Flatten())\n",
        "    model.add(Dropout(0.5))\n",
        "    model.add(Dense(256, activation='relu'))\n",
        "    model.add(Dropout(0.5))\n",
        "    model.add(Dense(256, activation='relu'))\n",
        "    model.add(Dense(num_classes, activation='softmax'))\n",
        "    return model"
      ]
    },
    {
      "cell_type": "markdown",
      "metadata": {
        "colab_type": "text",
        "id": "YS7eeHGQYICG"
      },
      "source": [
        "# **Training**"
      ]
    },
    {
      "cell_type": "code",
      "execution_count": 0,
      "metadata": {
        "colab": {},
        "colab_type": "code",
        "id": "lEbIBgq3jeuJ"
      },
      "outputs": [],
      "source": [
        "batch_size = 128\n",
        "num_epochs = 10000\n",
        "width, height = 64, 64\n",
        "input_shape = (width, height, 1)\n",
        "num_class = 7\n",
        "patience = 50\n",
        "base_path = 'models/'\n",
        "model_name = 'bkvgg12'\n",
        "model = bkvgg12(input_shape, num_class)\n",
        "\n",
        "model.compile(loss=categorical_crossentropy,\n",
        "              optimizer=Adam(lr=0.0001),\n",
        "              metrics=['accuracy'])\n",
        "\n",
        "data_generator = ImageDataGenerator(\n",
        "                        featurewise_center=False,\n",
        "                        featurewise_std_normalization=False,\n",
        "                        rotation_range=10,\n",
        "                        width_shift_range=0.1,\n",
        "                        height_shift_range=0.1,\n",
        "                        zoom_range=.1,\n",
        "                        horizontal_flip=True)\n",
        "\n",
        "log_file_path = base_path + '_emotion_training.log'\n",
        "csv_logger = CSVLogger(log_file_path, append=False)\n",
        "early_stop = EarlyStopping('val_loss', patience=patience + 10)\n",
        "reduce_lr = ReduceLROnPlateau('val_loss', factor=0.2, patience=int(patience/5), verbose=1)\n",
        "model_path = base_path + model_name + '.{epoch:03d}-{val_acc:2f}.hdf5'\n",
        "model_checkpoint = ModelCheckpoint(model_path, 'val_acc', verbose=1, save_best_only=True)\n",
        "call_backs = [model_checkpoint, csv_logger, early_stop, reduce_lr]\n",
        "#call_backs = [model_checkpoint, csv_logger]\n",
        "\n",
        "faces, emotions = load_fer2013((width, height))\n",
        "faces = preprocess_input(faces)\n",
        "\n",
        "num_sample, num_class = emotions.shape\n",
        "x_train, x_test, y_train, y_test = train_test_split(faces, emotions, test_size=0.2, shuffle=True)\n",
        "x_val, x_test, y_val, y_test = train_test_split(x_test, y_test, test_size=0.5, shuffle=True)\n",
        "\n",
        "history = model.fit(x_train, y_train, validation_data=(x_val, y_val), \n",
        "              batch_size=batch_size,\n",
        "              epochs=num_epochs,\n",
        "              verbose=1,\n",
        "              shuffle=True,\n",
        "              callbacks=call_backs\n",
        "              )\n"
      ]
    },
    {
      "cell_type": "markdown",
      "metadata": {
        "colab_type": "text",
        "id": "VKkCeQNMgAQ_"
      },
      "source": [
        "# **Draw chart**"
      ]
    },
    {
      "cell_type": "code",
      "execution_count": 0,
      "metadata": {
        "colab": {},
        "colab_type": "code",
        "id": "NTJqwnLAWSh-"
      },
      "outputs": [],
      "source": [
        "history = pd.read_csv('models/_emotion_training.log')\n",
        "\n",
        "# Plot training & validation accuracy values\n",
        "plt.plot(history['acc'])\n",
        "plt.plot(history['val_acc'])\n",
        "plt.title('Model accuracy')\n",
        "plt.ylabel('Accuracy')\n",
        "plt.xlabel('Epoch')\n",
        "plt.legend(['Train', 'Validation'], loc='upper left')\n",
        "plt.show()\n",
        "\n",
        "# Plot training & validation loss values\n",
        "plt.plot(history['loss'])\n",
        "plt.plot(history['val_loss'])\n",
        "plt.title('Model loss')\n",
        "plt.ylabel('Loss')\n",
        "plt.xlabel('Epoch')\n",
        "plt.legend(['Train', 'Validation'], loc='upper left')\n",
        "plt.show()"
      ]
    },
    {
      "cell_type": "markdown",
      "metadata": {
        "colab_type": "text",
        "id": "JUkPxcbfhE-z"
      },
      "source": [
        "#**Testing**"
      ]
    },
    {
      "cell_type": "code",
      "execution_count": 0,
      "metadata": {
        "colab": {},
        "colab_type": "code",
        "id": "vNHQfZZiq3PF"
      },
      "outputs": [],
      "source": [
        "model_path='/content/models/bkvgg12.059-0.663695.hdf5'\n",
        "model = load_model(model_path, compile=True)\n",
        "score = model.evaluate(x_test, y_test)\n",
        "print(\"test_loss:\", round(score[0],4), '-', 'test_acc', round(score[1],4))"
      ]
    },
    {
      "cell_type": "markdown",
      "metadata": {
        "colab_type": "text",
        "id": "nfCCs3j3hLMf"
      },
      "source": [
        "#**Report**"
      ]
    },
    {
      "cell_type": "code",
      "execution_count": 0,
      "metadata": {
        "colab": {},
        "colab_type": "code",
        "id": "J0XXyRwZAEI1"
      },
      "outputs": [],
      "source": [
        "y_pred = model.predict(x_test, batch_size=32)\n",
        "Y_pred = np.argmax(y_pred, axis=1)\n",
        "Y_test = np.argmax(y_test, axis=1)\n",
        "confu = confusion_matrix(Y_test, Y_pred)\n",
        "labels = ['Angry', 'Disgust', 'Fear', 'Happy', 'Sad', 'Surprise', 'Neutral']\n",
        "fig, ax = plot_confusion_matrix(conf_mat=confu,\n",
        "                                figsize=(8,8),\n",
        "                                show_absolute=True,\n",
        "                                show_normed=True,\n",
        "                                colorbar=True,\n",
        "                                class_names=labels,\n",
        "                                )\n",
        "plt.show()\n",
        "print(classification_report(Y_test, Y_pred, target_names=labels))"
      ]
    }
  ]
}